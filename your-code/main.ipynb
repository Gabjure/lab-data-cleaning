{
 "cells": [
  {
   "cell_type": "markdown",
   "metadata": {},
   "source": [
    "#### 1. Import pandas library"
   ]
  },
  {
   "cell_type": "code",
   "execution_count": 1,
   "metadata": {
    "ExecuteTime": {
     "end_time": "2020-01-29T20:01:48.185255Z",
     "start_time": "2020-01-29T20:01:47.329306Z"
    }
   },
   "outputs": [],
   "source": [
    "import pandas as pd\n",
    "import numpy as np"
   ]
  },
  {
   "cell_type": "markdown",
   "metadata": {},
   "source": [
    "#### 2. Import BigQuery library\n"
   ]
  },
  {
   "cell_type": "code",
   "execution_count": 2,
   "metadata": {
    "ExecuteTime": {
     "end_time": "2020-01-29T20:01:49.848735Z",
     "start_time": "2020-01-29T20:01:49.192262Z"
    }
   },
   "outputs": [],
   "source": [
    "import os\n",
    "os.environ[\"GOOGLE_APPLICATION_CREDENTIALS\"]=\"./ironhack_service_account_big_query.json\"\n",
    "from google.cloud import bigquery"
   ]
  },
  {
   "cell_type": "markdown",
   "metadata": {},
   "source": [
    "#### 3. Create a connection to BigQuery"
   ]
  },
  {
   "cell_type": "code",
   "execution_count": 3,
   "metadata": {
    "ExecuteTime": {
     "end_time": "2020-01-29T20:01:50.368135Z",
     "start_time": "2020-01-29T20:01:50.359303Z"
    }
   },
   "outputs": [],
   "source": [
    "client = bigquery.Client()"
   ]
  },
  {
   "cell_type": "markdown",
   "metadata": {},
   "source": [
    "#### 4. Import data from the users table from the stackoverflow public database for United Kingdom only"
   ]
  },
  {
   "cell_type": "code",
   "execution_count": 4,
   "metadata": {
    "ExecuteTime": {
     "end_time": "2020-01-29T20:01:56.631542Z",
     "start_time": "2020-01-29T20:01:51.331321Z"
    }
   },
   "outputs": [],
   "source": [
    "sql='''\n",
    "SELECT\n",
    "    *\n",
    "FROM \n",
    "    `bigquery-public-data.stackoverflow.users`\n",
    "WHERE\n",
    "    location = \"United Kingdom\"\n",
    "'''\n",
    "query_job = client.query(query = sql)\n",
    "df = query_job.to_dataframe()\n",
    "#df.head()"
   ]
  },
  {
   "cell_type": "markdown",
   "metadata": {},
   "source": [
    "#### 5. Rename id column to user_id"
   ]
  },
  {
   "cell_type": "code",
   "execution_count": 5,
   "metadata": {
    "ExecuteTime": {
     "end_time": "2020-01-29T20:01:56.678026Z",
     "start_time": "2020-01-29T20:01:56.634153Z"
    }
   },
   "outputs": [
    {
     "data": {
      "text/html": [
       "<div>\n",
       "<style scoped>\n",
       "    .dataframe tbody tr th:only-of-type {\n",
       "        vertical-align: middle;\n",
       "    }\n",
       "\n",
       "    .dataframe tbody tr th {\n",
       "        vertical-align: top;\n",
       "    }\n",
       "\n",
       "    .dataframe thead th {\n",
       "        text-align: right;\n",
       "    }\n",
       "</style>\n",
       "<table border=\"1\" class=\"dataframe\">\n",
       "  <thead>\n",
       "    <tr style=\"text-align: right;\">\n",
       "      <th></th>\n",
       "      <th>user_id</th>\n",
       "      <th>display_name</th>\n",
       "      <th>about_me</th>\n",
       "      <th>age</th>\n",
       "      <th>creation_date</th>\n",
       "      <th>last_access_date</th>\n",
       "      <th>location</th>\n",
       "      <th>reputation</th>\n",
       "      <th>up_votes</th>\n",
       "      <th>down_votes</th>\n",
       "      <th>views</th>\n",
       "      <th>profile_image_url</th>\n",
       "      <th>website_url</th>\n",
       "    </tr>\n",
       "  </thead>\n",
       "  <tbody>\n",
       "    <tr>\n",
       "      <th>0</th>\n",
       "      <td>2434</td>\n",
       "      <td>Daniel James</td>\n",
       "      <td>None</td>\n",
       "      <td>None</td>\n",
       "      <td>2008-08-22 10:14:24.370000+00:00</td>\n",
       "      <td>2019-09-02 18:09:02.960000+00:00</td>\n",
       "      <td>United Kingdom</td>\n",
       "      <td>3659</td>\n",
       "      <td>333</td>\n",
       "      <td>24</td>\n",
       "      <td>469</td>\n",
       "      <td>None</td>\n",
       "      <td>None</td>\n",
       "    </tr>\n",
       "    <tr>\n",
       "      <th>1</th>\n",
       "      <td>21442</td>\n",
       "      <td>nationale</td>\n",
       "      <td>None</td>\n",
       "      <td>None</td>\n",
       "      <td>2008-09-24 00:03:25.460000+00:00</td>\n",
       "      <td>2008-10-13 02:26:37.530000+00:00</td>\n",
       "      <td>United Kingdom</td>\n",
       "      <td>183</td>\n",
       "      <td>2</td>\n",
       "      <td>0</td>\n",
       "      <td>25</td>\n",
       "      <td>None</td>\n",
       "      <td>None</td>\n",
       "    </tr>\n",
       "    <tr>\n",
       "      <th>2</th>\n",
       "      <td>35186</td>\n",
       "      <td>Rav</td>\n",
       "      <td>None</td>\n",
       "      <td>None</td>\n",
       "      <td>2008-11-06 17:26:38.160000+00:00</td>\n",
       "      <td>2019-11-30 16:51:11.733000+00:00</td>\n",
       "      <td>United Kingdom</td>\n",
       "      <td>587</td>\n",
       "      <td>0</td>\n",
       "      <td>4</td>\n",
       "      <td>46</td>\n",
       "      <td>https://i.stack.imgur.com/ykhD5.jpg</td>\n",
       "      <td>None</td>\n",
       "    </tr>\n",
       "    <tr>\n",
       "      <th>3</th>\n",
       "      <td>95361</td>\n",
       "      <td>Russ Hayward</td>\n",
       "      <td>&lt;p&gt;I write code primarily in Java but I enjoy ...</td>\n",
       "      <td>None</td>\n",
       "      <td>2009-04-24 08:38:24.340000+00:00</td>\n",
       "      <td>2019-11-29 11:11:07.363000+00:00</td>\n",
       "      <td>United Kingdom</td>\n",
       "      <td>5369</td>\n",
       "      <td>679</td>\n",
       "      <td>16</td>\n",
       "      <td>793</td>\n",
       "      <td>None</td>\n",
       "      <td>http://www.blanksite.com/</td>\n",
       "    </tr>\n",
       "    <tr>\n",
       "      <th>4</th>\n",
       "      <td>134189</td>\n",
       "      <td>jezmck</td>\n",
       "      <td>None</td>\n",
       "      <td>None</td>\n",
       "      <td>2009-05-14 19:33:12.667000+00:00</td>\n",
       "      <td>2019-11-29 13:38:48.700000+00:00</td>\n",
       "      <td>United Kingdom</td>\n",
       "      <td>918</td>\n",
       "      <td>507</td>\n",
       "      <td>73</td>\n",
       "      <td>89</td>\n",
       "      <td>https://i.stack.imgur.com/xPsDD.jpg?s=128&amp;g=1</td>\n",
       "      <td>http://jezmck.com</td>\n",
       "    </tr>\n",
       "  </tbody>\n",
       "</table>\n",
       "</div>"
      ],
      "text/plain": [
       "   user_id  display_name                                           about_me  \\\n",
       "0     2434  Daniel James                                               None   \n",
       "1    21442     nationale                                               None   \n",
       "2    35186           Rav                                               None   \n",
       "3    95361  Russ Hayward  <p>I write code primarily in Java but I enjoy ...   \n",
       "4   134189        jezmck                                               None   \n",
       "\n",
       "    age                    creation_date                 last_access_date  \\\n",
       "0  None 2008-08-22 10:14:24.370000+00:00 2019-09-02 18:09:02.960000+00:00   \n",
       "1  None 2008-09-24 00:03:25.460000+00:00 2008-10-13 02:26:37.530000+00:00   \n",
       "2  None 2008-11-06 17:26:38.160000+00:00 2019-11-30 16:51:11.733000+00:00   \n",
       "3  None 2009-04-24 08:38:24.340000+00:00 2019-11-29 11:11:07.363000+00:00   \n",
       "4  None 2009-05-14 19:33:12.667000+00:00 2019-11-29 13:38:48.700000+00:00   \n",
       "\n",
       "         location  reputation  up_votes  down_votes  views  \\\n",
       "0  United Kingdom        3659       333          24    469   \n",
       "1  United Kingdom         183         2           0     25   \n",
       "2  United Kingdom         587         0           4     46   \n",
       "3  United Kingdom        5369       679          16    793   \n",
       "4  United Kingdom         918       507          73     89   \n",
       "\n",
       "                               profile_image_url                website_url  \n",
       "0                                           None                       None  \n",
       "1                                           None                       None  \n",
       "2            https://i.stack.imgur.com/ykhD5.jpg                       None  \n",
       "3                                           None  http://www.blanksite.com/  \n",
       "4  https://i.stack.imgur.com/xPsDD.jpg?s=128&g=1          http://jezmck.com  "
      ]
     },
     "execution_count": 5,
     "metadata": {},
     "output_type": "execute_result"
    }
   ],
   "source": [
    "data = df.rename(columns={'id':'user_id'})\n",
    "data.head()"
   ]
  },
  {
   "cell_type": "markdown",
   "metadata": {},
   "source": [
    "#### 6. Import from the stackoverflow_posts table all items which have up to 20 view counts and only select 'id', 'owner_user_id', 'score', 'view_count', 'comment_count', 'favorite_count'"
   ]
  },
  {
   "cell_type": "code",
   "execution_count": 6,
   "metadata": {
    "ExecuteTime": {
     "end_time": "2020-01-29T20:02:23.520111Z",
     "start_time": "2020-01-29T20:02:00.909605Z"
    }
   },
   "outputs": [],
   "source": [
    "sql_2='''\n",
    "SELECT\n",
    "    id\n",
    "    ,owner_user_id\n",
    "    ,score\n",
    "    ,view_count\n",
    "    ,comment_count\n",
    "    ,favorite_count\n",
    "FROM \n",
    "    `bigquery-public-data.stackoverflow.stackoverflow_posts`\n",
    "WHERE\n",
    "    view_count <= 20\n",
    ";'''\n",
    "query_job = client.query(query = sql_2)\n",
    "df_2 = query_job.to_dataframe()\n",
    "\n",
    "#df_2.head()\n",
    "\n"
   ]
  },
  {
   "cell_type": "markdown",
   "metadata": {},
   "source": [
    "#### 7. Rename id column to post_id and owner_user_id to user_id"
   ]
  },
  {
   "cell_type": "code",
   "execution_count": 7,
   "metadata": {
    "ExecuteTime": {
     "end_time": "2020-01-29T20:02:23.589712Z",
     "start_time": "2020-01-29T20:02:23.522471Z"
    }
   },
   "outputs": [
    {
     "data": {
      "text/html": [
       "<div>\n",
       "<style scoped>\n",
       "    .dataframe tbody tr th:only-of-type {\n",
       "        vertical-align: middle;\n",
       "    }\n",
       "\n",
       "    .dataframe tbody tr th {\n",
       "        vertical-align: top;\n",
       "    }\n",
       "\n",
       "    .dataframe thead th {\n",
       "        text-align: right;\n",
       "    }\n",
       "</style>\n",
       "<table border=\"1\" class=\"dataframe\">\n",
       "  <thead>\n",
       "    <tr style=\"text-align: right;\">\n",
       "      <th></th>\n",
       "      <th>post_id</th>\n",
       "      <th>user_id</th>\n",
       "      <th>score</th>\n",
       "      <th>view_count</th>\n",
       "      <th>comment_count</th>\n",
       "      <th>favorite_count</th>\n",
       "    </tr>\n",
       "  </thead>\n",
       "  <tbody>\n",
       "    <tr>\n",
       "      <th>0</th>\n",
       "      <td>23154134</td>\n",
       "      <td>NaN</td>\n",
       "      <td>1</td>\n",
       "      <td>20</td>\n",
       "      <td>0</td>\n",
       "      <td>NaN</td>\n",
       "    </tr>\n",
       "    <tr>\n",
       "      <th>1</th>\n",
       "      <td>37516574</td>\n",
       "      <td>NaN</td>\n",
       "      <td>0</td>\n",
       "      <td>7</td>\n",
       "      <td>0</td>\n",
       "      <td>NaN</td>\n",
       "    </tr>\n",
       "    <tr>\n",
       "      <th>2</th>\n",
       "      <td>37319831</td>\n",
       "      <td>NaN</td>\n",
       "      <td>1</td>\n",
       "      <td>18</td>\n",
       "      <td>0</td>\n",
       "      <td>NaN</td>\n",
       "    </tr>\n",
       "    <tr>\n",
       "      <th>3</th>\n",
       "      <td>31140287</td>\n",
       "      <td>NaN</td>\n",
       "      <td>1</td>\n",
       "      <td>16</td>\n",
       "      <td>3</td>\n",
       "      <td>NaN</td>\n",
       "    </tr>\n",
       "    <tr>\n",
       "      <th>4</th>\n",
       "      <td>36546336</td>\n",
       "      <td>NaN</td>\n",
       "      <td>0</td>\n",
       "      <td>8</td>\n",
       "      <td>0</td>\n",
       "      <td>NaN</td>\n",
       "    </tr>\n",
       "  </tbody>\n",
       "</table>\n",
       "</div>"
      ],
      "text/plain": [
       "    post_id  user_id  score  view_count  comment_count  favorite_count\n",
       "0  23154134      NaN      1          20              0             NaN\n",
       "1  37516574      NaN      0           7              0             NaN\n",
       "2  37319831      NaN      1          18              0             NaN\n",
       "3  31140287      NaN      1          16              3             NaN\n",
       "4  36546336      NaN      0           8              0             NaN"
      ]
     },
     "execution_count": 7,
     "metadata": {},
     "output_type": "execute_result"
    }
   ],
   "source": [
    "data_2 = df_2.rename(columns={'id':'post_id',\n",
    "                             \"owner_user_id\" : \"user_id\"})\n",
    "data_2.head()"
   ]
  },
  {
   "cell_type": "markdown",
   "metadata": {},
   "source": [
    "#### 8. Define new dataframes for users and posts with the following selected columns:\n",
    "    **users columns**: user_id, reputation,views,up_votes,down_votes\n",
    "    **posts columns**: post_id, score,user_id,view_count,comment_count"
   ]
  },
  {
   "cell_type": "code",
   "execution_count": 8,
   "metadata": {
    "ExecuteTime": {
     "end_time": "2020-01-29T20:02:23.606268Z",
     "start_time": "2020-01-29T20:02:23.592801Z"
    }
   },
   "outputs": [
    {
     "data": {
      "text/html": [
       "<div>\n",
       "<style scoped>\n",
       "    .dataframe tbody tr th:only-of-type {\n",
       "        vertical-align: middle;\n",
       "    }\n",
       "\n",
       "    .dataframe tbody tr th {\n",
       "        vertical-align: top;\n",
       "    }\n",
       "\n",
       "    .dataframe thead th {\n",
       "        text-align: right;\n",
       "    }\n",
       "</style>\n",
       "<table border=\"1\" class=\"dataframe\">\n",
       "  <thead>\n",
       "    <tr style=\"text-align: right;\">\n",
       "      <th></th>\n",
       "      <th>user_id</th>\n",
       "      <th>reputation</th>\n",
       "      <th>views</th>\n",
       "      <th>up_votes</th>\n",
       "      <th>down_votes</th>\n",
       "    </tr>\n",
       "  </thead>\n",
       "  <tbody>\n",
       "    <tr>\n",
       "      <th>0</th>\n",
       "      <td>2434</td>\n",
       "      <td>3659</td>\n",
       "      <td>469</td>\n",
       "      <td>333</td>\n",
       "      <td>24</td>\n",
       "    </tr>\n",
       "    <tr>\n",
       "      <th>1</th>\n",
       "      <td>21442</td>\n",
       "      <td>183</td>\n",
       "      <td>25</td>\n",
       "      <td>2</td>\n",
       "      <td>0</td>\n",
       "    </tr>\n",
       "    <tr>\n",
       "      <th>2</th>\n",
       "      <td>35186</td>\n",
       "      <td>587</td>\n",
       "      <td>46</td>\n",
       "      <td>0</td>\n",
       "      <td>4</td>\n",
       "    </tr>\n",
       "    <tr>\n",
       "      <th>3</th>\n",
       "      <td>95361</td>\n",
       "      <td>5369</td>\n",
       "      <td>793</td>\n",
       "      <td>679</td>\n",
       "      <td>16</td>\n",
       "    </tr>\n",
       "    <tr>\n",
       "      <th>4</th>\n",
       "      <td>134189</td>\n",
       "      <td>918</td>\n",
       "      <td>89</td>\n",
       "      <td>507</td>\n",
       "      <td>73</td>\n",
       "    </tr>\n",
       "  </tbody>\n",
       "</table>\n",
       "</div>"
      ],
      "text/plain": [
       "   user_id  reputation  views  up_votes  down_votes\n",
       "0     2434        3659    469       333          24\n",
       "1    21442         183     25         2           0\n",
       "2    35186         587     46         0           4\n",
       "3    95361        5369    793       679          16\n",
       "4   134189         918     89       507          73"
      ]
     },
     "execution_count": 8,
     "metadata": {},
     "output_type": "execute_result"
    }
   ],
   "source": [
    "users_cols = data[[\"user_id\", \"reputation\", \"views\", \"up_votes\", \"down_votes\"]]\n",
    "users_cols.head()"
   ]
  },
  {
   "cell_type": "code",
   "execution_count": 11,
   "metadata": {
    "ExecuteTime": {
     "end_time": "2020-01-29T20:03:04.910822Z",
     "start_time": "2020-01-29T20:03:04.889374Z"
    }
   },
   "outputs": [
    {
     "data": {
      "text/html": [
       "<div>\n",
       "<style scoped>\n",
       "    .dataframe tbody tr th:only-of-type {\n",
       "        vertical-align: middle;\n",
       "    }\n",
       "\n",
       "    .dataframe tbody tr th {\n",
       "        vertical-align: top;\n",
       "    }\n",
       "\n",
       "    .dataframe thead th {\n",
       "        text-align: right;\n",
       "    }\n",
       "</style>\n",
       "<table border=\"1\" class=\"dataframe\">\n",
       "  <thead>\n",
       "    <tr style=\"text-align: right;\">\n",
       "      <th></th>\n",
       "      <th>post_id</th>\n",
       "      <th>score</th>\n",
       "      <th>user_id</th>\n",
       "      <th>view_count</th>\n",
       "      <th>comment_count</th>\n",
       "    </tr>\n",
       "  </thead>\n",
       "  <tbody>\n",
       "    <tr>\n",
       "      <th>0</th>\n",
       "      <td>23154134</td>\n",
       "      <td>1</td>\n",
       "      <td>NaN</td>\n",
       "      <td>20</td>\n",
       "      <td>0</td>\n",
       "    </tr>\n",
       "    <tr>\n",
       "      <th>1</th>\n",
       "      <td>37516574</td>\n",
       "      <td>0</td>\n",
       "      <td>NaN</td>\n",
       "      <td>7</td>\n",
       "      <td>0</td>\n",
       "    </tr>\n",
       "    <tr>\n",
       "      <th>2</th>\n",
       "      <td>37319831</td>\n",
       "      <td>1</td>\n",
       "      <td>NaN</td>\n",
       "      <td>18</td>\n",
       "      <td>0</td>\n",
       "    </tr>\n",
       "    <tr>\n",
       "      <th>3</th>\n",
       "      <td>31140287</td>\n",
       "      <td>1</td>\n",
       "      <td>NaN</td>\n",
       "      <td>16</td>\n",
       "      <td>3</td>\n",
       "    </tr>\n",
       "    <tr>\n",
       "      <th>4</th>\n",
       "      <td>36546336</td>\n",
       "      <td>0</td>\n",
       "      <td>NaN</td>\n",
       "      <td>8</td>\n",
       "      <td>0</td>\n",
       "    </tr>\n",
       "  </tbody>\n",
       "</table>\n",
       "</div>"
      ],
      "text/plain": [
       "    post_id  score  user_id  view_count  comment_count\n",
       "0  23154134      1      NaN          20              0\n",
       "1  37516574      0      NaN           7              0\n",
       "2  37319831      1      NaN          18              0\n",
       "3  31140287      1      NaN          16              3\n",
       "4  36546336      0      NaN           8              0"
      ]
     },
     "execution_count": 11,
     "metadata": {},
     "output_type": "execute_result"
    }
   ],
   "source": [
    "post_cols = data_2[[\"post_id\", \"score\", \"user_id\", \"view_count\", \"comment_count\"]]\n",
    "post_cols.head()"
   ]
  },
  {
   "cell_type": "markdown",
   "metadata": {},
   "source": [
    "#### 8. Merge both dataframes, users and posts. \n",
    "You will need to make a [merge](https://pandas.pydata.org/pandas-docs/stable/generated/pandas.DataFrame.merge.html) of posts and users dataframes."
   ]
  },
  {
   "cell_type": "code",
   "execution_count": 12,
   "metadata": {
    "ExecuteTime": {
     "end_time": "2020-01-29T20:03:06.421070Z",
     "start_time": "2020-01-29T20:03:06.280078Z"
    }
   },
   "outputs": [
    {
     "data": {
      "text/html": [
       "<div>\n",
       "<style scoped>\n",
       "    .dataframe tbody tr th:only-of-type {\n",
       "        vertical-align: middle;\n",
       "    }\n",
       "\n",
       "    .dataframe tbody tr th {\n",
       "        vertical-align: top;\n",
       "    }\n",
       "\n",
       "    .dataframe thead th {\n",
       "        text-align: right;\n",
       "    }\n",
       "</style>\n",
       "<table border=\"1\" class=\"dataframe\">\n",
       "  <thead>\n",
       "    <tr style=\"text-align: right;\">\n",
       "      <th></th>\n",
       "      <th>user_id</th>\n",
       "      <th>reputation</th>\n",
       "      <th>views</th>\n",
       "      <th>up_votes</th>\n",
       "      <th>down_votes</th>\n",
       "      <th>post_id</th>\n",
       "      <th>score</th>\n",
       "      <th>view_count</th>\n",
       "      <th>comment_count</th>\n",
       "    </tr>\n",
       "  </thead>\n",
       "  <tbody>\n",
       "    <tr>\n",
       "      <th>0</th>\n",
       "      <td>1076743</td>\n",
       "      <td>7146</td>\n",
       "      <td>1177</td>\n",
       "      <td>450</td>\n",
       "      <td>120</td>\n",
       "      <td>33428716</td>\n",
       "      <td>0</td>\n",
       "      <td>17</td>\n",
       "      <td>0</td>\n",
       "    </tr>\n",
       "    <tr>\n",
       "      <th>1</th>\n",
       "      <td>1076743</td>\n",
       "      <td>7146</td>\n",
       "      <td>1177</td>\n",
       "      <td>450</td>\n",
       "      <td>120</td>\n",
       "      <td>15036385</td>\n",
       "      <td>0</td>\n",
       "      <td>16</td>\n",
       "      <td>0</td>\n",
       "    </tr>\n",
       "    <tr>\n",
       "      <th>2</th>\n",
       "      <td>1864489</td>\n",
       "      <td>550</td>\n",
       "      <td>185</td>\n",
       "      <td>194</td>\n",
       "      <td>3</td>\n",
       "      <td>37754600</td>\n",
       "      <td>0</td>\n",
       "      <td>20</td>\n",
       "      <td>2</td>\n",
       "    </tr>\n",
       "    <tr>\n",
       "      <th>3</th>\n",
       "      <td>2508203</td>\n",
       "      <td>75</td>\n",
       "      <td>24</td>\n",
       "      <td>6</td>\n",
       "      <td>0</td>\n",
       "      <td>37727168</td>\n",
       "      <td>0</td>\n",
       "      <td>15</td>\n",
       "      <td>0</td>\n",
       "    </tr>\n",
       "    <tr>\n",
       "      <th>4</th>\n",
       "      <td>117859</td>\n",
       "      <td>1384</td>\n",
       "      <td>170</td>\n",
       "      <td>91</td>\n",
       "      <td>6</td>\n",
       "      <td>19060940</td>\n",
       "      <td>0</td>\n",
       "      <td>20</td>\n",
       "      <td>0</td>\n",
       "    </tr>\n",
       "  </tbody>\n",
       "</table>\n",
       "</div>"
      ],
      "text/plain": [
       "   user_id  reputation  views  up_votes  down_votes   post_id  score  \\\n",
       "0  1076743        7146   1177       450         120  33428716      0   \n",
       "1  1076743        7146   1177       450         120  15036385      0   \n",
       "2  1864489         550    185       194           3  37754600      0   \n",
       "3  2508203          75     24         6           0  37727168      0   \n",
       "4   117859        1384    170        91           6  19060940      0   \n",
       "\n",
       "   view_count  comment_count  \n",
       "0          17              0  \n",
       "1          16              0  \n",
       "2          20              2  \n",
       "3          15              0  \n",
       "4          20              0  "
      ]
     },
     "execution_count": 12,
     "metadata": {},
     "output_type": "execute_result"
    }
   ],
   "source": [
    "users_cols = users_cols.merge(post_cols, left_on='user_id', right_on='user_id')\n",
    "users_cols.head()"
   ]
  },
  {
   "cell_type": "markdown",
   "metadata": {},
   "source": [
    "#### 9. How many missing values do you have in your merged dataframe? "
   ]
  },
  {
   "cell_type": "code",
   "execution_count": 14,
   "metadata": {
    "ExecuteTime": {
     "end_time": "2020-01-29T20:03:55.665731Z",
     "start_time": "2020-01-29T20:03:55.656372Z"
    }
   },
   "outputs": [
    {
     "data": {
      "text/plain": [
       "user_id          0\n",
       "reputation       0\n",
       "views            0\n",
       "up_votes         0\n",
       "down_votes       0\n",
       "post_id          0\n",
       "score            0\n",
       "view_count       0\n",
       "comment_count    0\n",
       "dtype: int64"
      ]
     },
     "execution_count": 14,
     "metadata": {},
     "output_type": "execute_result"
    }
   ],
   "source": [
    "users_cols.isnull().sum()"
   ]
  },
  {
   "cell_type": "code",
   "execution_count": 13,
   "metadata": {
    "ExecuteTime": {
     "end_time": "2020-01-29T20:03:37.865296Z",
     "start_time": "2020-01-29T20:03:37.856791Z"
    }
   },
   "outputs": [
    {
     "data": {
      "text/plain": [
       "0"
      ]
     },
     "execution_count": 13,
     "metadata": {},
     "output_type": "execute_result"
    }
   ],
   "source": [
    "users_cols.isnull().sum().sum()"
   ]
  },
  {
   "cell_type": "markdown",
   "metadata": {},
   "source": [
    "#### Bonus: Identify extreme values in your merged dataframe, create a dataframe called outliers with the same columns as our data set and calculate the bounds. The values of the outliers dataframe will be the values of the merged_df that fall outside that bounds. You will need to save your outliers dataframe to a csv file on your-code folder. Hint: post_id cannot have outliers!"
   ]
  },
  {
   "cell_type": "code",
   "execution_count": 22,
   "metadata": {
    "ExecuteTime": {
     "end_time": "2020-01-29T20:13:21.850092Z",
     "start_time": "2020-01-29T20:13:21.844548Z"
    }
   },
   "outputs": [],
   "source": [
    "users_cols = users_cols.drop(\"post_id\", axis=1)"
   ]
  },
  {
   "cell_type": "code",
   "execution_count": 29,
   "metadata": {
    "ExecuteTime": {
     "end_time": "2020-01-29T20:15:57.914330Z",
     "start_time": "2020-01-29T20:15:57.897232Z"
    }
   },
   "outputs": [],
   "source": [
    "low_variance = []\n",
    "\n",
    "for col in users_cols._get_numeric_data():\n",
    "    minimum = min(users_cols[col])\n",
    "    ninety_per = np.percentile(users_cols[col], 90)\n",
    "    if ninety_per == minimum:\n",
    "        low_variance.append(col)\n",
    "users_cols = users_cols.drop(low_variance, axis=1)"
   ]
  },
  {
   "cell_type": "code",
   "execution_count": 30,
   "metadata": {
    "ExecuteTime": {
     "end_time": "2020-01-29T20:15:58.527778Z",
     "start_time": "2020-01-29T20:15:58.476935Z"
    }
   },
   "outputs": [
    {
     "data": {
      "text/html": [
       "<div>\n",
       "<style scoped>\n",
       "    .dataframe tbody tr th:only-of-type {\n",
       "        vertical-align: middle;\n",
       "    }\n",
       "\n",
       "    .dataframe tbody tr th {\n",
       "        vertical-align: top;\n",
       "    }\n",
       "\n",
       "    .dataframe thead th {\n",
       "        text-align: right;\n",
       "    }\n",
       "</style>\n",
       "<table border=\"1\" class=\"dataframe\">\n",
       "  <thead>\n",
       "    <tr style=\"text-align: right;\">\n",
       "      <th></th>\n",
       "      <th>count</th>\n",
       "      <th>mean</th>\n",
       "      <th>std</th>\n",
       "      <th>min</th>\n",
       "      <th>25%</th>\n",
       "      <th>50%</th>\n",
       "      <th>75%</th>\n",
       "      <th>max</th>\n",
       "      <th>IQR</th>\n",
       "    </tr>\n",
       "  </thead>\n",
       "  <tbody>\n",
       "    <tr>\n",
       "      <th>user_id</th>\n",
       "      <td>1078.0</td>\n",
       "      <td>2.250329e+06</td>\n",
       "      <td>1.824147e+06</td>\n",
       "      <td>274.0</td>\n",
       "      <td>653292.0</td>\n",
       "      <td>1937858.0</td>\n",
       "      <td>3494103.75</td>\n",
       "      <td>6449207.0</td>\n",
       "      <td>2840811.75</td>\n",
       "    </tr>\n",
       "    <tr>\n",
       "      <th>reputation</th>\n",
       "      <td>1078.0</td>\n",
       "      <td>7.333054e+03</td>\n",
       "      <td>2.368506e+04</td>\n",
       "      <td>1.0</td>\n",
       "      <td>231.0</td>\n",
       "      <td>1106.0</td>\n",
       "      <td>5229.75</td>\n",
       "      <td>279695.0</td>\n",
       "      <td>4998.75</td>\n",
       "    </tr>\n",
       "    <tr>\n",
       "      <th>views</th>\n",
       "      <td>1078.0</td>\n",
       "      <td>6.256716e+02</td>\n",
       "      <td>1.637005e+03</td>\n",
       "      <td>0.0</td>\n",
       "      <td>39.0</td>\n",
       "      <td>139.5</td>\n",
       "      <td>495.75</td>\n",
       "      <td>27257.0</td>\n",
       "      <td>456.75</td>\n",
       "    </tr>\n",
       "    <tr>\n",
       "      <th>up_votes</th>\n",
       "      <td>1078.0</td>\n",
       "      <td>3.883145e+02</td>\n",
       "      <td>7.119623e+02</td>\n",
       "      <td>0.0</td>\n",
       "      <td>16.0</td>\n",
       "      <td>94.5</td>\n",
       "      <td>385.75</td>\n",
       "      <td>7845.0</td>\n",
       "      <td>369.75</td>\n",
       "    </tr>\n",
       "    <tr>\n",
       "      <th>down_votes</th>\n",
       "      <td>1078.0</td>\n",
       "      <td>5.051670e+01</td>\n",
       "      <td>2.028212e+02</td>\n",
       "      <td>0.0</td>\n",
       "      <td>0.0</td>\n",
       "      <td>3.0</td>\n",
       "      <td>20.00</td>\n",
       "      <td>3624.0</td>\n",
       "      <td>20.00</td>\n",
       "    </tr>\n",
       "    <tr>\n",
       "      <th>score</th>\n",
       "      <td>1078.0</td>\n",
       "      <td>1.270872e-01</td>\n",
       "      <td>5.873860e-01</td>\n",
       "      <td>-7.0</td>\n",
       "      <td>0.0</td>\n",
       "      <td>0.0</td>\n",
       "      <td>0.00</td>\n",
       "      <td>4.0</td>\n",
       "      <td>0.00</td>\n",
       "    </tr>\n",
       "    <tr>\n",
       "      <th>view_count</th>\n",
       "      <td>1078.0</td>\n",
       "      <td>1.558256e+01</td>\n",
       "      <td>3.709026e+00</td>\n",
       "      <td>3.0</td>\n",
       "      <td>13.0</td>\n",
       "      <td>16.0</td>\n",
       "      <td>19.00</td>\n",
       "      <td>20.0</td>\n",
       "      <td>6.00</td>\n",
       "    </tr>\n",
       "    <tr>\n",
       "      <th>comment_count</th>\n",
       "      <td>1078.0</td>\n",
       "      <td>9.202226e-01</td>\n",
       "      <td>1.632748e+00</td>\n",
       "      <td>0.0</td>\n",
       "      <td>0.0</td>\n",
       "      <td>0.0</td>\n",
       "      <td>1.00</td>\n",
       "      <td>11.0</td>\n",
       "      <td>1.00</td>\n",
       "    </tr>\n",
       "  </tbody>\n",
       "</table>\n",
       "</div>"
      ],
      "text/plain": [
       "                count          mean           std    min       25%        50%  \\\n",
       "user_id        1078.0  2.250329e+06  1.824147e+06  274.0  653292.0  1937858.0   \n",
       "reputation     1078.0  7.333054e+03  2.368506e+04    1.0     231.0     1106.0   \n",
       "views          1078.0  6.256716e+02  1.637005e+03    0.0      39.0      139.5   \n",
       "up_votes       1078.0  3.883145e+02  7.119623e+02    0.0      16.0       94.5   \n",
       "down_votes     1078.0  5.051670e+01  2.028212e+02    0.0       0.0        3.0   \n",
       "score          1078.0  1.270872e-01  5.873860e-01   -7.0       0.0        0.0   \n",
       "view_count     1078.0  1.558256e+01  3.709026e+00    3.0      13.0       16.0   \n",
       "comment_count  1078.0  9.202226e-01  1.632748e+00    0.0       0.0        0.0   \n",
       "\n",
       "                      75%        max         IQR  \n",
       "user_id        3494103.75  6449207.0  2840811.75  \n",
       "reputation        5229.75   279695.0     4998.75  \n",
       "views              495.75    27257.0      456.75  \n",
       "up_votes           385.75     7845.0      369.75  \n",
       "down_votes          20.00     3624.0       20.00  \n",
       "score                0.00        4.0        0.00  \n",
       "view_count          19.00       20.0        6.00  \n",
       "comment_count        1.00       11.0        1.00  "
      ]
     },
     "execution_count": 30,
     "metadata": {},
     "output_type": "execute_result"
    }
   ],
   "source": [
    "stats = users_cols.describe().transpose()\n",
    "stats[\"IQR\"] = stats[\"75%\"] - stats[\"25%\"]\n",
    "stats"
   ]
  },
  {
   "cell_type": "code",
   "execution_count": 27,
   "metadata": {
    "ExecuteTime": {
     "end_time": "2020-01-29T20:14:12.351846Z",
     "start_time": "2020-01-29T20:14:12.297422Z"
    }
   },
   "outputs": [],
   "source": [
    "outliers = pd.DataFrame(columns = users_cols.columns)\n",
    "\n",
    "for col in stats.index:\n",
    "    iqr = stats.at[col, \"IQR\"]\n",
    "    cutoff = iqr * 1.5\n",
    "    lower = stats.at[col, \"25%\"] - cutoff\n",
    "    upper = stats.at[col, \"75%\"] + cutoff\n",
    "    results = users_cols[(users_cols[col] < lower) |\n",
    "                  (users_cols[col] > upper)].copy()\n",
    "    results[\"Outlier\"] = col\n",
    "    outliers = outliers.append(results)"
   ]
  },
  {
   "cell_type": "code",
   "execution_count": 37,
   "metadata": {
    "ExecuteTime": {
     "end_time": "2020-01-29T20:26:12.914513Z",
     "start_time": "2020-01-29T20:26:12.890879Z"
    }
   },
   "outputs": [
    {
     "data": {
      "text/html": [
       "<div>\n",
       "<style scoped>\n",
       "    .dataframe tbody tr th:only-of-type {\n",
       "        vertical-align: middle;\n",
       "    }\n",
       "\n",
       "    .dataframe tbody tr th {\n",
       "        vertical-align: top;\n",
       "    }\n",
       "\n",
       "    .dataframe thead th {\n",
       "        text-align: right;\n",
       "    }\n",
       "</style>\n",
       "<table border=\"1\" class=\"dataframe\">\n",
       "  <thead>\n",
       "    <tr style=\"text-align: right;\">\n",
       "      <th></th>\n",
       "      <th>Outlier</th>\n",
       "      <th>comment_count</th>\n",
       "      <th>down_votes</th>\n",
       "      <th>reputation</th>\n",
       "      <th>score</th>\n",
       "      <th>up_votes</th>\n",
       "      <th>user_id</th>\n",
       "      <th>view_count</th>\n",
       "      <th>views</th>\n",
       "    </tr>\n",
       "  </thead>\n",
       "  <tbody>\n",
       "    <tr>\n",
       "      <th>6</th>\n",
       "      <td>reputation</td>\n",
       "      <td>0</td>\n",
       "      <td>32</td>\n",
       "      <td>24921</td>\n",
       "      <td>0</td>\n",
       "      <td>2970</td>\n",
       "      <td>33051</td>\n",
       "      <td>15</td>\n",
       "      <td>3241</td>\n",
       "    </tr>\n",
       "    <tr>\n",
       "      <th>32</th>\n",
       "      <td>reputation</td>\n",
       "      <td>0</td>\n",
       "      <td>198</td>\n",
       "      <td>37327</td>\n",
       "      <td>0</td>\n",
       "      <td>1900</td>\n",
       "      <td>38522</td>\n",
       "      <td>13</td>\n",
       "      <td>2872</td>\n",
       "    </tr>\n",
       "    <tr>\n",
       "      <th>33</th>\n",
       "      <td>reputation</td>\n",
       "      <td>1</td>\n",
       "      <td>198</td>\n",
       "      <td>37327</td>\n",
       "      <td>0</td>\n",
       "      <td>1900</td>\n",
       "      <td>38522</td>\n",
       "      <td>19</td>\n",
       "      <td>2872</td>\n",
       "    </tr>\n",
       "    <tr>\n",
       "      <th>34</th>\n",
       "      <td>reputation</td>\n",
       "      <td>2</td>\n",
       "      <td>198</td>\n",
       "      <td>37327</td>\n",
       "      <td>0</td>\n",
       "      <td>1900</td>\n",
       "      <td>38522</td>\n",
       "      <td>18</td>\n",
       "      <td>2872</td>\n",
       "    </tr>\n",
       "    <tr>\n",
       "      <th>35</th>\n",
       "      <td>reputation</td>\n",
       "      <td>0</td>\n",
       "      <td>198</td>\n",
       "      <td>37327</td>\n",
       "      <td>0</td>\n",
       "      <td>1900</td>\n",
       "      <td>38522</td>\n",
       "      <td>7</td>\n",
       "      <td>2872</td>\n",
       "    </tr>\n",
       "    <tr>\n",
       "      <th>...</th>\n",
       "      <td>...</td>\n",
       "      <td>...</td>\n",
       "      <td>...</td>\n",
       "      <td>...</td>\n",
       "      <td>...</td>\n",
       "      <td>...</td>\n",
       "      <td>...</td>\n",
       "      <td>...</td>\n",
       "      <td>...</td>\n",
       "    </tr>\n",
       "    <tr>\n",
       "      <th>1026</th>\n",
       "      <td>comment_count</td>\n",
       "      <td>5</td>\n",
       "      <td>28</td>\n",
       "      <td>5466</td>\n",
       "      <td>0</td>\n",
       "      <td>16</td>\n",
       "      <td>3195915</td>\n",
       "      <td>15</td>\n",
       "      <td>101</td>\n",
       "    </tr>\n",
       "    <tr>\n",
       "      <th>1051</th>\n",
       "      <td>comment_count</td>\n",
       "      <td>3</td>\n",
       "      <td>0</td>\n",
       "      <td>47</td>\n",
       "      <td>0</td>\n",
       "      <td>2</td>\n",
       "      <td>1542051</td>\n",
       "      <td>20</td>\n",
       "      <td>1</td>\n",
       "    </tr>\n",
       "    <tr>\n",
       "      <th>1054</th>\n",
       "      <td>comment_count</td>\n",
       "      <td>4</td>\n",
       "      <td>0</td>\n",
       "      <td>43</td>\n",
       "      <td>-7</td>\n",
       "      <td>3</td>\n",
       "      <td>6118448</td>\n",
       "      <td>14</td>\n",
       "      <td>5</td>\n",
       "    </tr>\n",
       "    <tr>\n",
       "      <th>1063</th>\n",
       "      <td>comment_count</td>\n",
       "      <td>3</td>\n",
       "      <td>0</td>\n",
       "      <td>61</td>\n",
       "      <td>0</td>\n",
       "      <td>0</td>\n",
       "      <td>3054080</td>\n",
       "      <td>17</td>\n",
       "      <td>13</td>\n",
       "    </tr>\n",
       "    <tr>\n",
       "      <th>1071</th>\n",
       "      <td>comment_count</td>\n",
       "      <td>9</td>\n",
       "      <td>0</td>\n",
       "      <td>21</td>\n",
       "      <td>0</td>\n",
       "      <td>0</td>\n",
       "      <td>4556923</td>\n",
       "      <td>20</td>\n",
       "      <td>12</td>\n",
       "    </tr>\n",
       "  </tbody>\n",
       "</table>\n",
       "<p>909 rows × 9 columns</p>\n",
       "</div>"
      ],
      "text/plain": [
       "            Outlier comment_count down_votes reputation score up_votes  \\\n",
       "6        reputation             0         32      24921     0     2970   \n",
       "32       reputation             0        198      37327     0     1900   \n",
       "33       reputation             1        198      37327     0     1900   \n",
       "34       reputation             2        198      37327     0     1900   \n",
       "35       reputation             0        198      37327     0     1900   \n",
       "...             ...           ...        ...        ...   ...      ...   \n",
       "1026  comment_count             5         28       5466     0       16   \n",
       "1051  comment_count             3          0         47     0        2   \n",
       "1054  comment_count             4          0         43    -7        3   \n",
       "1063  comment_count             3          0         61     0        0   \n",
       "1071  comment_count             9          0         21     0        0   \n",
       "\n",
       "      user_id view_count views  \n",
       "6       33051         15  3241  \n",
       "32      38522         13  2872  \n",
       "33      38522         19  2872  \n",
       "34      38522         18  2872  \n",
       "35      38522          7  2872  \n",
       "...       ...        ...   ...  \n",
       "1026  3195915         15   101  \n",
       "1051  1542051         20     1  \n",
       "1054  6118448         14     5  \n",
       "1063  3054080         17    13  \n",
       "1071  4556923         20    12  \n",
       "\n",
       "[909 rows x 9 columns]"
      ]
     },
     "execution_count": 37,
     "metadata": {},
     "output_type": "execute_result"
    }
   ],
   "source": [
    "outliers"
   ]
  },
  {
   "cell_type": "code",
   "execution_count": 38,
   "metadata": {
    "ExecuteTime": {
     "end_time": "2020-01-29T20:26:30.480441Z",
     "start_time": "2020-01-29T20:26:30.465533Z"
    }
   },
   "outputs": [],
   "source": [
    "outliers.to_csv(\"./outliers.csv\", index = False)"
   ]
  }
 ],
 "metadata": {
  "kernelspec": {
   "display_name": "Python 3",
   "language": "python",
   "name": "python3"
  },
  "language_info": {
   "codemirror_mode": {
    "name": "ipython",
    "version": 3
   },
   "file_extension": ".py",
   "mimetype": "text/x-python",
   "name": "python",
   "nbconvert_exporter": "python",
   "pygments_lexer": "ipython3",
   "version": "3.7.5"
  }
 },
 "nbformat": 4,
 "nbformat_minor": 2
}
